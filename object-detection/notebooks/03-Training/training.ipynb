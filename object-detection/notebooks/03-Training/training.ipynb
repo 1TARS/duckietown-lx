{
 "cells": [
  {
   "cell_type": "markdown",
   "metadata": {},
   "source": [
    "<p style=\"text-align: center\">\n",
    "<img src=\"../../assets/images/dtlogo.png\" alt=\"Duckietown\" width=\"50%\">\n",
    "</p>"
   ]
  },
  {
   "cell_type": "markdown",
   "metadata": {},
   "source": [
    "# Training your Model\n",
    "\n"
   ]
  },
  {
   "cell_type": "markdown",
   "metadata": {},
   "source": [
    "## Upload your dataset\n",
    "\n",
    "To use your images on Google Colab, we will need your dataset. It can be found in `solution/dataset` of this exercise.\n",
    "\n",
    "You can upload it by going on your Google Drive\n",
    "and dragging the dataset's root directory into it. You must name the resulting folder \"duckietown_dataset\".\n",
    "\n",
    "You can use [this example](https://drive.google.com/drive/folders/1X3MLkHhFIjhKNrJiYTNzUY6ILOFySCRW?usp=sharing) as a reference.\n",
    "Your own dataset will be the same, but in your own Google Drive's root directory, and with a lot more images.\n",
    "\n",
    "\n",
    "# Training\n",
    "\n",
    "Use [this Google Colab Notebook](https://colab.research.google.com/drive/1qcUyv_mEDCrjB2QfZD-S-o_nTH0ldRki) to train your model. \n",
    "Make sure you carefully read the rest of this current notebook before running anything in Colab.\n",
    "\n",
    "\n",
    "## Running the notebook\n",
    "\n",
    "Don't forget to change the runtime type to GPU-accelerated!\n",
    "\n",
    "Click on Runtime > Change Runtime Type.\n",
    "\n",
    "![](../../assets/images/colab1.png)\n",
    "\n",
    "Then, in the drop-down menu, select \"GPU\"\n",
    "\n",
    "![](../../assets/images/colab2.png)\n",
    "\n",
    "Now follow the instructions in the Colab notebook. \n",
    "For reference, on google colab, training took us about 1 hour.\n"
   ]
  },
  {
   "cell_type": "markdown",
   "metadata": {},
   "source": [
    "## Optional (Not officially supported) local training\n",
    "\n",
    "This is only recommended for experienced Machine Learning enthusiasts.\n",
    "Training the model requires a GPU. If you have one, you can run the command,\n",
    "\n",
    "```\n",
    "git clone -b dt-obj-det https://github.com/duckietown/yolov5.git\n",
    "```\n",
    "\n",
    "You must now install all dependencies required by yolov5, and then call \n",
    "\n",
    "```\n",
    "python3 train.py --img 416 --batch 16 --epochs 100 --data duckietown.yaml --weights yolov5s.pt\n",
    "```\n",
    "\n",
    "For reference, on a computer with `Nvidia GTX 1080TI` GPU and `Ryzen 3700x` CPU, training took about 20 minutes. "
   ]
  },
  {
   "cell_type": "markdown",
   "metadata": {},
   "source": [
    "## Debugging and Model Inspection\n",
    "\n",
    "One you have finished training on Colab, there are a bunch of interesting outputs that will get generated during the training process that can be helpful for you to look at. Navigate to your google drive folder and then go into the `yolov5` directory. Then navigation to `runs/train/expX/` where `X` is incremented each time you train. In here you can see things like your PR curve, e.g.:\n",
    "\n",
    "![PR Curve](../../assets/images/PR_curve.png)\n",
    "\n",
    "Your confusion matrix:\n",
    "\n",
    "![Confusion Matrix](../../assets/images/confusion_matrix.png)\n",
    "\n",
    "And sample training outputs:\n",
    "\n",
    "![Training outputs](../../assets/images/train_batch1.jpg)"
   ]
  },
  {
   "cell_type": "markdown",
   "metadata": {},
   "source": [
    "# Next step\n",
    "\n",
    "Onto the [Integration notebook](../04-Integration/integration.ipynb)!"
   ]
  },
  {
   "cell_type": "code",
   "execution_count": null,
   "metadata": {},
   "outputs": [],
   "source": []
  }
 ],
 "metadata": {
  "kernelspec": {
   "display_name": "Python 3 (ipykernel)",
   "language": "python",
   "name": "python3"
  },
  "language_info": {
   "codemirror_mode": {
    "name": "ipython",
    "version": 3
   },
   "file_extension": ".py",
   "mimetype": "text/x-python",
   "name": "python",
   "nbconvert_exporter": "python",
   "pygments_lexer": "ipython3",
   "version": "3.8.10"
  }
 },
 "nbformat": 4,
 "nbformat_minor": 4
}
